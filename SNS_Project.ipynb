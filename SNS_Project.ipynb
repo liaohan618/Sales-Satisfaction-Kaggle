{
 "cells": [
  {
   "cell_type": "markdown",
   "id": "cf55adce",
   "metadata": {},
   "source": [
    "# Library Imports"
   ]
  },
  {
   "cell_type": "code",
   "execution_count": 1,
   "id": "e8cf315f",
   "metadata": {},
   "outputs": [],
   "source": [
    "import pandas as pd"
   ]
  },
  {
   "cell_type": "markdown",
   "id": "23d51ec7",
   "metadata": {},
   "source": [
    "# Data Loading"
   ]
  },
  {
   "cell_type": "code",
   "execution_count": 3,
   "id": "9a993c7d",
   "metadata": {},
   "outputs": [
    {
     "data": {
      "text/html": [
       "<div>\n",
       "<style scoped>\n",
       "    .dataframe tbody tr th:only-of-type {\n",
       "        vertical-align: middle;\n",
       "    }\n",
       "\n",
       "    .dataframe tbody tr th {\n",
       "        vertical-align: top;\n",
       "    }\n",
       "\n",
       "    .dataframe thead th {\n",
       "        text-align: right;\n",
       "    }\n",
       "</style>\n",
       "<table border=\"1\" class=\"dataframe\">\n",
       "  <thead>\n",
       "    <tr style=\"text-align: right;\">\n",
       "      <th></th>\n",
       "      <th>Group</th>\n",
       "      <th>Customer_Segment</th>\n",
       "      <th>Sales_Before</th>\n",
       "      <th>Sales_After</th>\n",
       "      <th>Customer_Satisfaction_Before</th>\n",
       "      <th>Customer_Satisfaction_After</th>\n",
       "      <th>Purchase_Made</th>\n",
       "    </tr>\n",
       "  </thead>\n",
       "  <tbody>\n",
       "    <tr>\n",
       "      <th>0</th>\n",
       "      <td>Control</td>\n",
       "      <td>High Value</td>\n",
       "      <td>240.548359</td>\n",
       "      <td>300.007568</td>\n",
       "      <td>74.684767</td>\n",
       "      <td>NaN</td>\n",
       "      <td>No</td>\n",
       "    </tr>\n",
       "    <tr>\n",
       "      <th>1</th>\n",
       "      <td>Treatment</td>\n",
       "      <td>High Value</td>\n",
       "      <td>246.862114</td>\n",
       "      <td>381.337555</td>\n",
       "      <td>100.000000</td>\n",
       "      <td>100.000000</td>\n",
       "      <td>Yes</td>\n",
       "    </tr>\n",
       "    <tr>\n",
       "      <th>2</th>\n",
       "      <td>Control</td>\n",
       "      <td>High Value</td>\n",
       "      <td>156.978084</td>\n",
       "      <td>179.330464</td>\n",
       "      <td>98.780735</td>\n",
       "      <td>100.000000</td>\n",
       "      <td>No</td>\n",
       "    </tr>\n",
       "    <tr>\n",
       "      <th>3</th>\n",
       "      <td>Control</td>\n",
       "      <td>Medium Value</td>\n",
       "      <td>192.126708</td>\n",
       "      <td>229.278031</td>\n",
       "      <td>49.333766</td>\n",
       "      <td>39.811841</td>\n",
       "      <td>Yes</td>\n",
       "    </tr>\n",
       "    <tr>\n",
       "      <th>4</th>\n",
       "      <td>NaN</td>\n",
       "      <td>High Value</td>\n",
       "      <td>229.685623</td>\n",
       "      <td>NaN</td>\n",
       "      <td>83.974852</td>\n",
       "      <td>87.738591</td>\n",
       "      <td>Yes</td>\n",
       "    </tr>\n",
       "  </tbody>\n",
       "</table>\n",
       "</div>"
      ],
      "text/plain": [
       "       Group Customer_Segment  Sales_Before  Sales_After  \\\n",
       "0    Control       High Value    240.548359   300.007568   \n",
       "1  Treatment       High Value    246.862114   381.337555   \n",
       "2    Control       High Value    156.978084   179.330464   \n",
       "3    Control     Medium Value    192.126708   229.278031   \n",
       "4        NaN       High Value    229.685623          NaN   \n",
       "\n",
       "   Customer_Satisfaction_Before  Customer_Satisfaction_After Purchase_Made  \n",
       "0                     74.684767                          NaN            No  \n",
       "1                    100.000000                   100.000000           Yes  \n",
       "2                     98.780735                   100.000000            No  \n",
       "3                     49.333766                    39.811841           Yes  \n",
       "4                     83.974852                    87.738591           Yes  "
      ]
     },
     "execution_count": 3,
     "metadata": {},
     "output_type": "execute_result"
    }
   ],
   "source": [
    "file_path = \"Sales_with_NaNs_v1.3.csv\"\n",
    "df = pd.read_csv(file_path)\n",
    "df.head()"
   ]
  },
  {
   "cell_type": "code",
   "execution_count": null,
   "id": "15256f93",
   "metadata": {},
   "outputs": [],
   "source": []
  }
 ],
 "metadata": {
  "kernelspec": {
   "display_name": "DS219",
   "language": "python",
   "name": "python3"
  },
  "language_info": {
   "codemirror_mode": {
    "name": "ipython",
    "version": 3
   },
   "file_extension": ".py",
   "mimetype": "text/x-python",
   "name": "python",
   "nbconvert_exporter": "python",
   "pygments_lexer": "ipython3",
   "version": "3.10.17"
  }
 },
 "nbformat": 4,
 "nbformat_minor": 5
}
